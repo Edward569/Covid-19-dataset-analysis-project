{
 "cells": [
  {
   "cell_type": "code",
   "execution_count": 84,
   "id": "e1d0c1cc",
   "metadata": {},
   "outputs": [],
   "source": [
    "import numpy as np\n",
    "import pandas as pd\n",
    "import seaborn as sns\n",
    "import matplotlib.pyplot as plt\n",
    "%matplotlib inline\n",
    "sns.set(rc={'figure.figsize': [8, 8]}, font_scale=1.2)"
   ]
  },
  {
   "cell_type": "code",
   "execution_count": 85,
   "id": "4503ca4f",
   "metadata": {},
   "outputs": [],
   "source": [
    "covid = pd.read_csv('covid-19.csv')"
   ]
  },
  {
   "cell_type": "code",
   "execution_count": 86,
   "id": "0df0306a",
   "metadata": {},
   "outputs": [
    {
     "data": {
      "text/html": [
       "<div>\n",
       "<style scoped>\n",
       "    .dataframe tbody tr th:only-of-type {\n",
       "        vertical-align: middle;\n",
       "    }\n",
       "\n",
       "    .dataframe tbody tr th {\n",
       "        vertical-align: top;\n",
       "    }\n",
       "\n",
       "    .dataframe thead th {\n",
       "        text-align: right;\n",
       "    }\n",
       "</style>\n",
       "<table border=\"1\" class=\"dataframe\">\n",
       "  <thead>\n",
       "    <tr style=\"text-align: right;\">\n",
       "      <th></th>\n",
       "      <th>Country/Region</th>\n",
       "      <th>Confirmed</th>\n",
       "      <th>Deaths</th>\n",
       "      <th>Recovered</th>\n",
       "      <th>Active</th>\n",
       "      <th>New cases</th>\n",
       "      <th>New deaths</th>\n",
       "      <th>New recovered</th>\n",
       "      <th>Deaths / 100 Cases</th>\n",
       "      <th>Recovered / 100 Cases</th>\n",
       "      <th>Deaths / 100 Recovered</th>\n",
       "      <th>Confirmed last week</th>\n",
       "      <th>1 week change</th>\n",
       "      <th>1 week % increase</th>\n",
       "      <th>WHO Region</th>\n",
       "    </tr>\n",
       "  </thead>\n",
       "  <tbody>\n",
       "    <tr>\n",
       "      <th>0</th>\n",
       "      <td>Afghanistan</td>\n",
       "      <td>36263</td>\n",
       "      <td>1269</td>\n",
       "      <td>25198</td>\n",
       "      <td>9796</td>\n",
       "      <td>106</td>\n",
       "      <td>10</td>\n",
       "      <td>18</td>\n",
       "      <td>3.50</td>\n",
       "      <td>69.49</td>\n",
       "      <td>5.04</td>\n",
       "      <td>35526</td>\n",
       "      <td>737</td>\n",
       "      <td>2.07</td>\n",
       "      <td>Eastern Mediterranean</td>\n",
       "    </tr>\n",
       "    <tr>\n",
       "      <th>1</th>\n",
       "      <td>Albania</td>\n",
       "      <td>4880</td>\n",
       "      <td>144</td>\n",
       "      <td>2745</td>\n",
       "      <td>1991</td>\n",
       "      <td>117</td>\n",
       "      <td>6</td>\n",
       "      <td>63</td>\n",
       "      <td>2.95</td>\n",
       "      <td>56.25</td>\n",
       "      <td>5.25</td>\n",
       "      <td>4171</td>\n",
       "      <td>709</td>\n",
       "      <td>17.00</td>\n",
       "      <td>Europe</td>\n",
       "    </tr>\n",
       "    <tr>\n",
       "      <th>2</th>\n",
       "      <td>Algeria</td>\n",
       "      <td>27973</td>\n",
       "      <td>1163</td>\n",
       "      <td>18837</td>\n",
       "      <td>7973</td>\n",
       "      <td>616</td>\n",
       "      <td>8</td>\n",
       "      <td>749</td>\n",
       "      <td>4.16</td>\n",
       "      <td>67.34</td>\n",
       "      <td>6.17</td>\n",
       "      <td>23691</td>\n",
       "      <td>4282</td>\n",
       "      <td>18.07</td>\n",
       "      <td>Africa</td>\n",
       "    </tr>\n",
       "    <tr>\n",
       "      <th>3</th>\n",
       "      <td>Andorra</td>\n",
       "      <td>907</td>\n",
       "      <td>52</td>\n",
       "      <td>803</td>\n",
       "      <td>52</td>\n",
       "      <td>10</td>\n",
       "      <td>0</td>\n",
       "      <td>0</td>\n",
       "      <td>5.73</td>\n",
       "      <td>88.53</td>\n",
       "      <td>6.48</td>\n",
       "      <td>884</td>\n",
       "      <td>23</td>\n",
       "      <td>2.60</td>\n",
       "      <td>Europe</td>\n",
       "    </tr>\n",
       "    <tr>\n",
       "      <th>4</th>\n",
       "      <td>Angola</td>\n",
       "      <td>950</td>\n",
       "      <td>41</td>\n",
       "      <td>242</td>\n",
       "      <td>667</td>\n",
       "      <td>18</td>\n",
       "      <td>1</td>\n",
       "      <td>0</td>\n",
       "      <td>4.32</td>\n",
       "      <td>25.47</td>\n",
       "      <td>16.94</td>\n",
       "      <td>749</td>\n",
       "      <td>201</td>\n",
       "      <td>26.84</td>\n",
       "      <td>Africa</td>\n",
       "    </tr>\n",
       "  </tbody>\n",
       "</table>\n",
       "</div>"
      ],
      "text/plain": [
       "  Country/Region  Confirmed  Deaths  Recovered  Active  New cases  New deaths  \\\n",
       "0    Afghanistan      36263    1269      25198    9796        106          10   \n",
       "1        Albania       4880     144       2745    1991        117           6   \n",
       "2        Algeria      27973    1163      18837    7973        616           8   \n",
       "3        Andorra        907      52        803      52         10           0   \n",
       "4         Angola        950      41        242     667         18           1   \n",
       "\n",
       "   New recovered  Deaths / 100 Cases  Recovered / 100 Cases  \\\n",
       "0             18                3.50                  69.49   \n",
       "1             63                2.95                  56.25   \n",
       "2            749                4.16                  67.34   \n",
       "3              0                5.73                  88.53   \n",
       "4              0                4.32                  25.47   \n",
       "\n",
       "   Deaths / 100 Recovered  Confirmed last week  1 week change  \\\n",
       "0                    5.04                35526            737   \n",
       "1                    5.25                 4171            709   \n",
       "2                    6.17                23691           4282   \n",
       "3                    6.48                  884             23   \n",
       "4                   16.94                  749            201   \n",
       "\n",
       "   1 week % increase             WHO Region  \n",
       "0               2.07  Eastern Mediterranean  \n",
       "1              17.00                 Europe  \n",
       "2              18.07                 Africa  \n",
       "3               2.60                 Europe  \n",
       "4              26.84                 Africa  "
      ]
     },
     "execution_count": 86,
     "metadata": {},
     "output_type": "execute_result"
    }
   ],
   "source": [
    "covid.head()"
   ]
  },
  {
   "cell_type": "code",
   "execution_count": 87,
   "id": "a60764c9",
   "metadata": {},
   "outputs": [
    {
     "name": "stdout",
     "output_type": "stream",
     "text": [
      "<class 'pandas.core.frame.DataFrame'>\n",
      "RangeIndex: 187 entries, 0 to 186\n",
      "Data columns (total 15 columns):\n",
      " #   Column                  Non-Null Count  Dtype  \n",
      "---  ------                  --------------  -----  \n",
      " 0   Country/Region          187 non-null    object \n",
      " 1   Confirmed               187 non-null    int64  \n",
      " 2   Deaths                  187 non-null    int64  \n",
      " 3   Recovered               187 non-null    int64  \n",
      " 4   Active                  187 non-null    int64  \n",
      " 5   New cases               187 non-null    int64  \n",
      " 6   New deaths              187 non-null    int64  \n",
      " 7   New recovered           187 non-null    int64  \n",
      " 8   Deaths / 100 Cases      187 non-null    float64\n",
      " 9   Recovered / 100 Cases   187 non-null    float64\n",
      " 10  Deaths / 100 Recovered  187 non-null    float64\n",
      " 11  Confirmed last week     187 non-null    int64  \n",
      " 12  1 week change           187 non-null    int64  \n",
      " 13  1 week % increase       187 non-null    float64\n",
      " 14  WHO Region              187 non-null    object \n",
      "dtypes: float64(4), int64(9), object(2)\n",
      "memory usage: 22.0+ KB\n"
     ]
    }
   ],
   "source": [
    "covid.info()"
   ]
  },
  {
   "cell_type": "code",
   "execution_count": 88,
   "id": "52e76802",
   "metadata": {
    "scrolled": true
   },
   "outputs": [
    {
     "data": {
      "text/html": [
       "<div>\n",
       "<style scoped>\n",
       "    .dataframe tbody tr th:only-of-type {\n",
       "        vertical-align: middle;\n",
       "    }\n",
       "\n",
       "    .dataframe tbody tr th {\n",
       "        vertical-align: top;\n",
       "    }\n",
       "\n",
       "    .dataframe thead th {\n",
       "        text-align: right;\n",
       "    }\n",
       "</style>\n",
       "<table border=\"1\" class=\"dataframe\">\n",
       "  <thead>\n",
       "    <tr style=\"text-align: right;\">\n",
       "      <th></th>\n",
       "      <th>Confirmed</th>\n",
       "      <th>Deaths</th>\n",
       "      <th>Recovered</th>\n",
       "      <th>Active</th>\n",
       "      <th>New cases</th>\n",
       "      <th>New deaths</th>\n",
       "      <th>New recovered</th>\n",
       "      <th>Deaths / 100 Cases</th>\n",
       "      <th>Recovered / 100 Cases</th>\n",
       "      <th>Deaths / 100 Recovered</th>\n",
       "      <th>Confirmed last week</th>\n",
       "      <th>1 week change</th>\n",
       "      <th>1 week % increase</th>\n",
       "    </tr>\n",
       "  </thead>\n",
       "  <tbody>\n",
       "    <tr>\n",
       "      <th>count</th>\n",
       "      <td>1.870000e+02</td>\n",
       "      <td>187.000000</td>\n",
       "      <td>1.870000e+02</td>\n",
       "      <td>1.870000e+02</td>\n",
       "      <td>187.000000</td>\n",
       "      <td>187.000000</td>\n",
       "      <td>187.000000</td>\n",
       "      <td>187.000000</td>\n",
       "      <td>187.000000</td>\n",
       "      <td>187.00</td>\n",
       "      <td>1.870000e+02</td>\n",
       "      <td>187.000000</td>\n",
       "      <td>187.000000</td>\n",
       "    </tr>\n",
       "    <tr>\n",
       "      <th>mean</th>\n",
       "      <td>8.813094e+04</td>\n",
       "      <td>3497.518717</td>\n",
       "      <td>5.063148e+04</td>\n",
       "      <td>3.400194e+04</td>\n",
       "      <td>1222.957219</td>\n",
       "      <td>28.957219</td>\n",
       "      <td>933.812834</td>\n",
       "      <td>3.019519</td>\n",
       "      <td>64.820535</td>\n",
       "      <td>inf</td>\n",
       "      <td>7.868248e+04</td>\n",
       "      <td>9448.459893</td>\n",
       "      <td>13.606203</td>\n",
       "    </tr>\n",
       "    <tr>\n",
       "      <th>std</th>\n",
       "      <td>3.833187e+05</td>\n",
       "      <td>14100.002482</td>\n",
       "      <td>1.901882e+05</td>\n",
       "      <td>2.133262e+05</td>\n",
       "      <td>5710.374790</td>\n",
       "      <td>120.037173</td>\n",
       "      <td>4197.719635</td>\n",
       "      <td>3.454302</td>\n",
       "      <td>26.287694</td>\n",
       "      <td>NaN</td>\n",
       "      <td>3.382737e+05</td>\n",
       "      <td>47491.127684</td>\n",
       "      <td>24.509838</td>\n",
       "    </tr>\n",
       "    <tr>\n",
       "      <th>min</th>\n",
       "      <td>1.000000e+01</td>\n",
       "      <td>0.000000</td>\n",
       "      <td>0.000000e+00</td>\n",
       "      <td>0.000000e+00</td>\n",
       "      <td>0.000000</td>\n",
       "      <td>0.000000</td>\n",
       "      <td>0.000000</td>\n",
       "      <td>0.000000</td>\n",
       "      <td>0.000000</td>\n",
       "      <td>0.00</td>\n",
       "      <td>1.000000e+01</td>\n",
       "      <td>-47.000000</td>\n",
       "      <td>-3.840000</td>\n",
       "    </tr>\n",
       "    <tr>\n",
       "      <th>25%</th>\n",
       "      <td>1.114000e+03</td>\n",
       "      <td>18.500000</td>\n",
       "      <td>6.265000e+02</td>\n",
       "      <td>1.415000e+02</td>\n",
       "      <td>4.000000</td>\n",
       "      <td>0.000000</td>\n",
       "      <td>0.000000</td>\n",
       "      <td>0.945000</td>\n",
       "      <td>48.770000</td>\n",
       "      <td>1.45</td>\n",
       "      <td>1.051500e+03</td>\n",
       "      <td>49.000000</td>\n",
       "      <td>2.775000</td>\n",
       "    </tr>\n",
       "    <tr>\n",
       "      <th>50%</th>\n",
       "      <td>5.059000e+03</td>\n",
       "      <td>108.000000</td>\n",
       "      <td>2.815000e+03</td>\n",
       "      <td>1.600000e+03</td>\n",
       "      <td>49.000000</td>\n",
       "      <td>1.000000</td>\n",
       "      <td>22.000000</td>\n",
       "      <td>2.150000</td>\n",
       "      <td>71.320000</td>\n",
       "      <td>3.62</td>\n",
       "      <td>5.020000e+03</td>\n",
       "      <td>432.000000</td>\n",
       "      <td>6.890000</td>\n",
       "    </tr>\n",
       "    <tr>\n",
       "      <th>75%</th>\n",
       "      <td>4.046050e+04</td>\n",
       "      <td>734.000000</td>\n",
       "      <td>2.260600e+04</td>\n",
       "      <td>9.149000e+03</td>\n",
       "      <td>419.500000</td>\n",
       "      <td>6.000000</td>\n",
       "      <td>221.000000</td>\n",
       "      <td>3.875000</td>\n",
       "      <td>86.885000</td>\n",
       "      <td>6.44</td>\n",
       "      <td>3.708050e+04</td>\n",
       "      <td>3172.000000</td>\n",
       "      <td>16.855000</td>\n",
       "    </tr>\n",
       "    <tr>\n",
       "      <th>max</th>\n",
       "      <td>4.290259e+06</td>\n",
       "      <td>148011.000000</td>\n",
       "      <td>1.846641e+06</td>\n",
       "      <td>2.816444e+06</td>\n",
       "      <td>56336.000000</td>\n",
       "      <td>1076.000000</td>\n",
       "      <td>33728.000000</td>\n",
       "      <td>28.560000</td>\n",
       "      <td>100.000000</td>\n",
       "      <td>inf</td>\n",
       "      <td>3.834677e+06</td>\n",
       "      <td>455582.000000</td>\n",
       "      <td>226.320000</td>\n",
       "    </tr>\n",
       "  </tbody>\n",
       "</table>\n",
       "</div>"
      ],
      "text/plain": [
       "          Confirmed         Deaths     Recovered        Active     New cases  \\\n",
       "count  1.870000e+02     187.000000  1.870000e+02  1.870000e+02    187.000000   \n",
       "mean   8.813094e+04    3497.518717  5.063148e+04  3.400194e+04   1222.957219   \n",
       "std    3.833187e+05   14100.002482  1.901882e+05  2.133262e+05   5710.374790   \n",
       "min    1.000000e+01       0.000000  0.000000e+00  0.000000e+00      0.000000   \n",
       "25%    1.114000e+03      18.500000  6.265000e+02  1.415000e+02      4.000000   \n",
       "50%    5.059000e+03     108.000000  2.815000e+03  1.600000e+03     49.000000   \n",
       "75%    4.046050e+04     734.000000  2.260600e+04  9.149000e+03    419.500000   \n",
       "max    4.290259e+06  148011.000000  1.846641e+06  2.816444e+06  56336.000000   \n",
       "\n",
       "        New deaths  New recovered  Deaths / 100 Cases  Recovered / 100 Cases  \\\n",
       "count   187.000000     187.000000          187.000000             187.000000   \n",
       "mean     28.957219     933.812834            3.019519              64.820535   \n",
       "std     120.037173    4197.719635            3.454302              26.287694   \n",
       "min       0.000000       0.000000            0.000000               0.000000   \n",
       "25%       0.000000       0.000000            0.945000              48.770000   \n",
       "50%       1.000000      22.000000            2.150000              71.320000   \n",
       "75%       6.000000     221.000000            3.875000              86.885000   \n",
       "max    1076.000000   33728.000000           28.560000             100.000000   \n",
       "\n",
       "       Deaths / 100 Recovered  Confirmed last week  1 week change  \\\n",
       "count                  187.00         1.870000e+02     187.000000   \n",
       "mean                      inf         7.868248e+04    9448.459893   \n",
       "std                       NaN         3.382737e+05   47491.127684   \n",
       "min                      0.00         1.000000e+01     -47.000000   \n",
       "25%                      1.45         1.051500e+03      49.000000   \n",
       "50%                      3.62         5.020000e+03     432.000000   \n",
       "75%                      6.44         3.708050e+04    3172.000000   \n",
       "max                       inf         3.834677e+06  455582.000000   \n",
       "\n",
       "       1 week % increase  \n",
       "count         187.000000  \n",
       "mean           13.606203  \n",
       "std            24.509838  \n",
       "min            -3.840000  \n",
       "25%             2.775000  \n",
       "50%             6.890000  \n",
       "75%            16.855000  \n",
       "max           226.320000  "
      ]
     },
     "execution_count": 88,
     "metadata": {},
     "output_type": "execute_result"
    }
   ],
   "source": [
    "covid.describe()"
   ]
  },
  {
   "cell_type": "code",
   "execution_count": 89,
   "id": "9ee9d74a",
   "metadata": {},
   "outputs": [
    {
     "data": {
      "text/html": [
       "<div>\n",
       "<style scoped>\n",
       "    .dataframe tbody tr th:only-of-type {\n",
       "        vertical-align: middle;\n",
       "    }\n",
       "\n",
       "    .dataframe tbody tr th {\n",
       "        vertical-align: top;\n",
       "    }\n",
       "\n",
       "    .dataframe thead th {\n",
       "        text-align: right;\n",
       "    }\n",
       "</style>\n",
       "<table border=\"1\" class=\"dataframe\">\n",
       "  <thead>\n",
       "    <tr style=\"text-align: right;\">\n",
       "      <th></th>\n",
       "      <th>Country/Region</th>\n",
       "      <th>Confirmed</th>\n",
       "      <th>Deaths</th>\n",
       "      <th>Recovered</th>\n",
       "      <th>Active</th>\n",
       "      <th>New cases</th>\n",
       "      <th>New deaths</th>\n",
       "      <th>New recovered</th>\n",
       "      <th>Deaths / 100 Cases</th>\n",
       "      <th>Recovered / 100 Cases</th>\n",
       "      <th>Deaths / 100 Recovered</th>\n",
       "      <th>Confirmed last week</th>\n",
       "      <th>1 week change</th>\n",
       "      <th>1 week % increase</th>\n",
       "      <th>WHO Region</th>\n",
       "    </tr>\n",
       "  </thead>\n",
       "  <tbody>\n",
       "    <tr>\n",
       "      <th>173</th>\n",
       "      <td>US</td>\n",
       "      <td>4290259</td>\n",
       "      <td>148011</td>\n",
       "      <td>1325804</td>\n",
       "      <td>2816444</td>\n",
       "      <td>56336</td>\n",
       "      <td>1076</td>\n",
       "      <td>27941</td>\n",
       "      <td>3.45</td>\n",
       "      <td>30.9</td>\n",
       "      <td>11.16</td>\n",
       "      <td>3834677</td>\n",
       "      <td>455582</td>\n",
       "      <td>11.88</td>\n",
       "      <td>Americas</td>\n",
       "    </tr>\n",
       "  </tbody>\n",
       "</table>\n",
       "</div>"
      ],
      "text/plain": [
       "    Country/Region  Confirmed  Deaths  Recovered   Active  New cases  \\\n",
       "173             US    4290259  148011    1325804  2816444      56336   \n",
       "\n",
       "     New deaths  New recovered  Deaths / 100 Cases  Recovered / 100 Cases  \\\n",
       "173        1076          27941                3.45                   30.9   \n",
       "\n",
       "     Deaths / 100 Recovered  Confirmed last week  1 week change  \\\n",
       "173                   11.16              3834677         455582   \n",
       "\n",
       "     1 week % increase WHO Region  \n",
       "173              11.88   Americas  "
      ]
     },
     "execution_count": 89,
     "metadata": {},
     "output_type": "execute_result"
    }
   ],
   "source": [
    "covid[covid['Active'] == covid['Active'].max()]"
   ]
  },
  {
   "cell_type": "code",
   "execution_count": 90,
   "id": "2f24d4a7",
   "metadata": {},
   "outputs": [
    {
     "data": {
      "text/plain": [
       "2816444"
      ]
     },
     "execution_count": 90,
     "metadata": {},
     "output_type": "execute_result"
    }
   ],
   "source": [
    "covid['Active'].max() #us have the max Active patients "
   ]
  },
  {
   "cell_type": "code",
   "execution_count": 91,
   "id": "e6f706cc",
   "metadata": {},
   "outputs": [
    {
     "data": {
      "text/html": [
       "<div>\n",
       "<style scoped>\n",
       "    .dataframe tbody tr th:only-of-type {\n",
       "        vertical-align: middle;\n",
       "    }\n",
       "\n",
       "    .dataframe tbody tr th {\n",
       "        vertical-align: top;\n",
       "    }\n",
       "\n",
       "    .dataframe thead th {\n",
       "        text-align: right;\n",
       "    }\n",
       "</style>\n",
       "<table border=\"1\" class=\"dataframe\">\n",
       "  <thead>\n",
       "    <tr style=\"text-align: right;\">\n",
       "      <th></th>\n",
       "      <th>Country/Region</th>\n",
       "      <th>Confirmed</th>\n",
       "      <th>Deaths</th>\n",
       "      <th>Recovered</th>\n",
       "      <th>Active</th>\n",
       "      <th>New cases</th>\n",
       "      <th>New deaths</th>\n",
       "      <th>New recovered</th>\n",
       "      <th>Deaths / 100 Cases</th>\n",
       "      <th>Recovered / 100 Cases</th>\n",
       "      <th>Deaths / 100 Recovered</th>\n",
       "      <th>Confirmed last week</th>\n",
       "      <th>1 week change</th>\n",
       "      <th>1 week % increase</th>\n",
       "      <th>WHO Region</th>\n",
       "    </tr>\n",
       "  </thead>\n",
       "  <tbody>\n",
       "    <tr>\n",
       "      <th>173</th>\n",
       "      <td>US</td>\n",
       "      <td>4290259</td>\n",
       "      <td>148011</td>\n",
       "      <td>1325804</td>\n",
       "      <td>2816444</td>\n",
       "      <td>56336</td>\n",
       "      <td>1076</td>\n",
       "      <td>27941</td>\n",
       "      <td>3.45</td>\n",
       "      <td>30.9</td>\n",
       "      <td>11.16</td>\n",
       "      <td>3834677</td>\n",
       "      <td>455582</td>\n",
       "      <td>11.88</td>\n",
       "      <td>Americas</td>\n",
       "    </tr>\n",
       "  </tbody>\n",
       "</table>\n",
       "</div>"
      ],
      "text/plain": [
       "    Country/Region  Confirmed  Deaths  Recovered   Active  New cases  \\\n",
       "173             US    4290259  148011    1325804  2816444      56336   \n",
       "\n",
       "     New deaths  New recovered  Deaths / 100 Cases  Recovered / 100 Cases  \\\n",
       "173        1076          27941                3.45                   30.9   \n",
       "\n",
       "     Deaths / 100 Recovered  Confirmed last week  1 week change  \\\n",
       "173                   11.16              3834677         455582   \n",
       "\n",
       "     1 week % increase WHO Region  \n",
       "173              11.88   Americas  "
      ]
     },
     "execution_count": 91,
     "metadata": {},
     "output_type": "execute_result"
    }
   ],
   "source": [
    "covid[covid['Confirmed'] == covid['Confirmed'].max()]"
   ]
  },
  {
   "cell_type": "code",
   "execution_count": 92,
   "id": "8b1dd98b",
   "metadata": {},
   "outputs": [
    {
     "data": {
      "text/plain": [
       "4290259"
      ]
     },
     "execution_count": 92,
     "metadata": {},
     "output_type": "execute_result"
    }
   ],
   "source": [
    "covid['Confirmed'].max() #us has the most Confirmed patients"
   ]
  },
  {
   "cell_type": "code",
   "execution_count": 93,
   "id": "c67d1bb8",
   "metadata": {},
   "outputs": [
    {
     "data": {
      "text/html": [
       "<div>\n",
       "<style scoped>\n",
       "    .dataframe tbody tr th:only-of-type {\n",
       "        vertical-align: middle;\n",
       "    }\n",
       "\n",
       "    .dataframe tbody tr th {\n",
       "        vertical-align: top;\n",
       "    }\n",
       "\n",
       "    .dataframe thead th {\n",
       "        text-align: right;\n",
       "    }\n",
       "</style>\n",
       "<table border=\"1\" class=\"dataframe\">\n",
       "  <thead>\n",
       "    <tr style=\"text-align: right;\">\n",
       "      <th></th>\n",
       "      <th>Country/Region</th>\n",
       "      <th>Confirmed</th>\n",
       "      <th>Deaths</th>\n",
       "      <th>Recovered</th>\n",
       "      <th>Active</th>\n",
       "      <th>New cases</th>\n",
       "      <th>New deaths</th>\n",
       "      <th>New recovered</th>\n",
       "      <th>Deaths / 100 Cases</th>\n",
       "      <th>Recovered / 100 Cases</th>\n",
       "      <th>Deaths / 100 Recovered</th>\n",
       "      <th>Confirmed last week</th>\n",
       "      <th>1 week change</th>\n",
       "      <th>1 week % increase</th>\n",
       "      <th>WHO Region</th>\n",
       "    </tr>\n",
       "  </thead>\n",
       "  <tbody>\n",
       "    <tr>\n",
       "      <th>173</th>\n",
       "      <td>US</td>\n",
       "      <td>4290259</td>\n",
       "      <td>148011</td>\n",
       "      <td>1325804</td>\n",
       "      <td>2816444</td>\n",
       "      <td>56336</td>\n",
       "      <td>1076</td>\n",
       "      <td>27941</td>\n",
       "      <td>3.45</td>\n",
       "      <td>30.9</td>\n",
       "      <td>11.16</td>\n",
       "      <td>3834677</td>\n",
       "      <td>455582</td>\n",
       "      <td>11.88</td>\n",
       "      <td>Americas</td>\n",
       "    </tr>\n",
       "  </tbody>\n",
       "</table>\n",
       "</div>"
      ],
      "text/plain": [
       "    Country/Region  Confirmed  Deaths  Recovered   Active  New cases  \\\n",
       "173             US    4290259  148011    1325804  2816444      56336   \n",
       "\n",
       "     New deaths  New recovered  Deaths / 100 Cases  Recovered / 100 Cases  \\\n",
       "173        1076          27941                3.45                   30.9   \n",
       "\n",
       "     Deaths / 100 Recovered  Confirmed last week  1 week change  \\\n",
       "173                   11.16              3834677         455582   \n",
       "\n",
       "     1 week % increase WHO Region  \n",
       "173              11.88   Americas  "
      ]
     },
     "execution_count": 93,
     "metadata": {},
     "output_type": "execute_result"
    }
   ],
   "source": [
    "covid[covid['Deaths'] == covid['Deaths'].max()]"
   ]
  },
  {
   "cell_type": "code",
   "execution_count": 94,
   "id": "49275310",
   "metadata": {},
   "outputs": [
    {
     "data": {
      "text/plain": [
       "148011"
      ]
     },
     "execution_count": 94,
     "metadata": {},
     "output_type": "execute_result"
    }
   ],
   "source": [
    "covid['Deaths'].max() #us has the most death "
   ]
  },
  {
   "cell_type": "code",
   "execution_count": 95,
   "id": "dbba15ef",
   "metadata": {},
   "outputs": [
    {
     "data": {
      "text/plain": [
       "Country/Region\n",
       "Afghanistan    25198\n",
       "Albania         2745\n",
       "Algeria        18837\n",
       "Andorra          803\n",
       "Angola           242\n",
       "Name: Recovered, dtype: int64"
      ]
     },
     "execution_count": 95,
     "metadata": {},
     "output_type": "execute_result"
    }
   ],
   "source": [
    "covid.groupby('Country/Region').max()['Recovered'].head(5) #the most 5 Countries has recoverd Patients "
   ]
  },
  {
   "cell_type": "code",
   "execution_count": 96,
   "id": "bea51728",
   "metadata": {},
   "outputs": [
    {
     "data": {
      "text/plain": [
       "Country/Region            187\n",
       "Confirmed                 184\n",
       "Deaths                    150\n",
       "Recovered                 178\n",
       "Active                    173\n",
       "New cases                 122\n",
       "New deaths                 38\n",
       "New recovered             103\n",
       "Deaths / 100 Cases        145\n",
       "Recovered / 100 Cases     177\n",
       "Deaths / 100 Recovered    155\n",
       "Confirmed last week       183\n",
       "1 week change             162\n",
       "1 week % increase         169\n",
       "WHO Region                  6\n",
       "dtype: int64"
      ]
     },
     "execution_count": 96,
     "metadata": {},
     "output_type": "execute_result"
    }
   ],
   "source": [
    "covid.nunique()"
   ]
  },
  {
   "cell_type": "code",
   "execution_count": 97,
   "id": "3a31b4c8",
   "metadata": {},
   "outputs": [
    {
     "data": {
      "text/plain": [
       "Europe                   56\n",
       "Africa                   48\n",
       "Americas                 35\n",
       "Eastern Mediterranean    22\n",
       "Western Pacific          16\n",
       "South-East Asia          10\n",
       "Name: WHO Region, dtype: int64"
      ]
     },
     "execution_count": 97,
     "metadata": {},
     "output_type": "execute_result"
    }
   ],
   "source": [
    "covid['WHO Region'].value_counts()"
   ]
  },
  {
   "cell_type": "code",
   "execution_count": 120,
   "id": "deffebe1",
   "metadata": {},
   "outputs": [
    {
     "data": {
      "text/html": [
       "<div>\n",
       "<style scoped>\n",
       "    .dataframe tbody tr th:only-of-type {\n",
       "        vertical-align: middle;\n",
       "    }\n",
       "\n",
       "    .dataframe tbody tr th {\n",
       "        vertical-align: top;\n",
       "    }\n",
       "\n",
       "    .dataframe thead th {\n",
       "        text-align: right;\n",
       "    }\n",
       "</style>\n",
       "<table border=\"1\" class=\"dataframe\">\n",
       "  <thead>\n",
       "    <tr style=\"text-align: right;\">\n",
       "      <th></th>\n",
       "      <th>Confirmed</th>\n",
       "      <th>Deaths</th>\n",
       "      <th>Recovered</th>\n",
       "      <th>Active</th>\n",
       "      <th>New cases</th>\n",
       "      <th>New deaths</th>\n",
       "      <th>New recovered</th>\n",
       "      <th>Deaths / 100 Cases</th>\n",
       "      <th>Recovered / 100 Cases</th>\n",
       "      <th>Deaths / 100 Recovered</th>\n",
       "      <th>Confirmed last week</th>\n",
       "      <th>1 week change</th>\n",
       "      <th>1 week % increase</th>\n",
       "    </tr>\n",
       "  </thead>\n",
       "  <tbody>\n",
       "    <tr>\n",
       "      <th>Confirmed</th>\n",
       "      <td>1.000000</td>\n",
       "      <td>0.934698</td>\n",
       "      <td>0.906377</td>\n",
       "      <td>0.927018</td>\n",
       "      <td>0.909720</td>\n",
       "      <td>0.871683</td>\n",
       "      <td>0.859252</td>\n",
       "      <td>0.063550</td>\n",
       "      <td>-0.064815</td>\n",
       "      <td>0.025175</td>\n",
       "      <td>0.999127</td>\n",
       "      <td>0.954710</td>\n",
       "      <td>-0.010161</td>\n",
       "    </tr>\n",
       "    <tr>\n",
       "      <th>Deaths</th>\n",
       "      <td>0.934698</td>\n",
       "      <td>1.000000</td>\n",
       "      <td>0.832098</td>\n",
       "      <td>0.871586</td>\n",
       "      <td>0.806975</td>\n",
       "      <td>0.814161</td>\n",
       "      <td>0.765114</td>\n",
       "      <td>0.251565</td>\n",
       "      <td>-0.114529</td>\n",
       "      <td>0.169006</td>\n",
       "      <td>0.939082</td>\n",
       "      <td>0.855330</td>\n",
       "      <td>-0.034708</td>\n",
       "    </tr>\n",
       "    <tr>\n",
       "      <th>Recovered</th>\n",
       "      <td>0.906377</td>\n",
       "      <td>0.832098</td>\n",
       "      <td>1.000000</td>\n",
       "      <td>0.682103</td>\n",
       "      <td>0.818942</td>\n",
       "      <td>0.820338</td>\n",
       "      <td>0.919203</td>\n",
       "      <td>0.048438</td>\n",
       "      <td>0.026610</td>\n",
       "      <td>-0.027277</td>\n",
       "      <td>0.899312</td>\n",
       "      <td>0.910013</td>\n",
       "      <td>-0.013697</td>\n",
       "    </tr>\n",
       "    <tr>\n",
       "      <th>Active</th>\n",
       "      <td>0.927018</td>\n",
       "      <td>0.871586</td>\n",
       "      <td>0.682103</td>\n",
       "      <td>1.000000</td>\n",
       "      <td>0.851190</td>\n",
       "      <td>0.781123</td>\n",
       "      <td>0.673887</td>\n",
       "      <td>0.054380</td>\n",
       "      <td>-0.132618</td>\n",
       "      <td>0.058386</td>\n",
       "      <td>0.931459</td>\n",
       "      <td>0.847642</td>\n",
       "      <td>-0.003752</td>\n",
       "    </tr>\n",
       "    <tr>\n",
       "      <th>New cases</th>\n",
       "      <td>0.909720</td>\n",
       "      <td>0.806975</td>\n",
       "      <td>0.818942</td>\n",
       "      <td>0.851190</td>\n",
       "      <td>1.000000</td>\n",
       "      <td>0.935947</td>\n",
       "      <td>0.914765</td>\n",
       "      <td>0.020104</td>\n",
       "      <td>-0.078666</td>\n",
       "      <td>-0.011637</td>\n",
       "      <td>0.896084</td>\n",
       "      <td>0.959993</td>\n",
       "      <td>0.030791</td>\n",
       "    </tr>\n",
       "    <tr>\n",
       "      <th>New deaths</th>\n",
       "      <td>0.871683</td>\n",
       "      <td>0.814161</td>\n",
       "      <td>0.820338</td>\n",
       "      <td>0.781123</td>\n",
       "      <td>0.935947</td>\n",
       "      <td>1.000000</td>\n",
       "      <td>0.889234</td>\n",
       "      <td>0.060399</td>\n",
       "      <td>-0.062792</td>\n",
       "      <td>-0.020750</td>\n",
       "      <td>0.862118</td>\n",
       "      <td>0.894915</td>\n",
       "      <td>0.025293</td>\n",
       "    </tr>\n",
       "    <tr>\n",
       "      <th>New recovered</th>\n",
       "      <td>0.859252</td>\n",
       "      <td>0.765114</td>\n",
       "      <td>0.919203</td>\n",
       "      <td>0.673887</td>\n",
       "      <td>0.914765</td>\n",
       "      <td>0.889234</td>\n",
       "      <td>1.000000</td>\n",
       "      <td>0.017090</td>\n",
       "      <td>-0.024293</td>\n",
       "      <td>-0.023340</td>\n",
       "      <td>0.839692</td>\n",
       "      <td>0.954321</td>\n",
       "      <td>0.032662</td>\n",
       "    </tr>\n",
       "    <tr>\n",
       "      <th>Deaths / 100 Cases</th>\n",
       "      <td>0.063550</td>\n",
       "      <td>0.251565</td>\n",
       "      <td>0.048438</td>\n",
       "      <td>0.054380</td>\n",
       "      <td>0.020104</td>\n",
       "      <td>0.060399</td>\n",
       "      <td>0.017090</td>\n",
       "      <td>1.000000</td>\n",
       "      <td>-0.168920</td>\n",
       "      <td>0.334594</td>\n",
       "      <td>0.069894</td>\n",
       "      <td>0.015095</td>\n",
       "      <td>-0.134534</td>\n",
       "    </tr>\n",
       "    <tr>\n",
       "      <th>Recovered / 100 Cases</th>\n",
       "      <td>-0.064815</td>\n",
       "      <td>-0.114529</td>\n",
       "      <td>0.026610</td>\n",
       "      <td>-0.132618</td>\n",
       "      <td>-0.078666</td>\n",
       "      <td>-0.062792</td>\n",
       "      <td>-0.024293</td>\n",
       "      <td>-0.168920</td>\n",
       "      <td>1.000000</td>\n",
       "      <td>-0.295381</td>\n",
       "      <td>-0.064600</td>\n",
       "      <td>-0.063013</td>\n",
       "      <td>-0.394254</td>\n",
       "    </tr>\n",
       "    <tr>\n",
       "      <th>Deaths / 100 Recovered</th>\n",
       "      <td>0.025175</td>\n",
       "      <td>0.169006</td>\n",
       "      <td>-0.027277</td>\n",
       "      <td>0.058386</td>\n",
       "      <td>-0.011637</td>\n",
       "      <td>-0.020750</td>\n",
       "      <td>-0.023340</td>\n",
       "      <td>0.334594</td>\n",
       "      <td>-0.295381</td>\n",
       "      <td>1.000000</td>\n",
       "      <td>0.030460</td>\n",
       "      <td>-0.013763</td>\n",
       "      <td>-0.049083</td>\n",
       "    </tr>\n",
       "    <tr>\n",
       "      <th>Confirmed last week</th>\n",
       "      <td>0.999127</td>\n",
       "      <td>0.939082</td>\n",
       "      <td>0.899312</td>\n",
       "      <td>0.931459</td>\n",
       "      <td>0.896084</td>\n",
       "      <td>0.862118</td>\n",
       "      <td>0.839692</td>\n",
       "      <td>0.069894</td>\n",
       "      <td>-0.064600</td>\n",
       "      <td>0.030460</td>\n",
       "      <td>1.000000</td>\n",
       "      <td>0.941448</td>\n",
       "      <td>-0.015247</td>\n",
       "    </tr>\n",
       "    <tr>\n",
       "      <th>1 week change</th>\n",
       "      <td>0.954710</td>\n",
       "      <td>0.855330</td>\n",
       "      <td>0.910013</td>\n",
       "      <td>0.847642</td>\n",
       "      <td>0.959993</td>\n",
       "      <td>0.894915</td>\n",
       "      <td>0.954321</td>\n",
       "      <td>0.015095</td>\n",
       "      <td>-0.063013</td>\n",
       "      <td>-0.013763</td>\n",
       "      <td>0.941448</td>\n",
       "      <td>1.000000</td>\n",
       "      <td>0.026594</td>\n",
       "    </tr>\n",
       "    <tr>\n",
       "      <th>1 week % increase</th>\n",
       "      <td>-0.010161</td>\n",
       "      <td>-0.034708</td>\n",
       "      <td>-0.013697</td>\n",
       "      <td>-0.003752</td>\n",
       "      <td>0.030791</td>\n",
       "      <td>0.025293</td>\n",
       "      <td>0.032662</td>\n",
       "      <td>-0.134534</td>\n",
       "      <td>-0.394254</td>\n",
       "      <td>-0.049083</td>\n",
       "      <td>-0.015247</td>\n",
       "      <td>0.026594</td>\n",
       "      <td>1.000000</td>\n",
       "    </tr>\n",
       "  </tbody>\n",
       "</table>\n",
       "</div>"
      ],
      "text/plain": [
       "                        Confirmed    Deaths  Recovered    Active  New cases  \\\n",
       "Confirmed                1.000000  0.934698   0.906377  0.927018   0.909720   \n",
       "Deaths                   0.934698  1.000000   0.832098  0.871586   0.806975   \n",
       "Recovered                0.906377  0.832098   1.000000  0.682103   0.818942   \n",
       "Active                   0.927018  0.871586   0.682103  1.000000   0.851190   \n",
       "New cases                0.909720  0.806975   0.818942  0.851190   1.000000   \n",
       "New deaths               0.871683  0.814161   0.820338  0.781123   0.935947   \n",
       "New recovered            0.859252  0.765114   0.919203  0.673887   0.914765   \n",
       "Deaths / 100 Cases       0.063550  0.251565   0.048438  0.054380   0.020104   \n",
       "Recovered / 100 Cases   -0.064815 -0.114529   0.026610 -0.132618  -0.078666   \n",
       "Deaths / 100 Recovered   0.025175  0.169006  -0.027277  0.058386  -0.011637   \n",
       "Confirmed last week      0.999127  0.939082   0.899312  0.931459   0.896084   \n",
       "1 week change            0.954710  0.855330   0.910013  0.847642   0.959993   \n",
       "1 week % increase       -0.010161 -0.034708  -0.013697 -0.003752   0.030791   \n",
       "\n",
       "                        New deaths  New recovered  Deaths / 100 Cases  \\\n",
       "Confirmed                 0.871683       0.859252            0.063550   \n",
       "Deaths                    0.814161       0.765114            0.251565   \n",
       "Recovered                 0.820338       0.919203            0.048438   \n",
       "Active                    0.781123       0.673887            0.054380   \n",
       "New cases                 0.935947       0.914765            0.020104   \n",
       "New deaths                1.000000       0.889234            0.060399   \n",
       "New recovered             0.889234       1.000000            0.017090   \n",
       "Deaths / 100 Cases        0.060399       0.017090            1.000000   \n",
       "Recovered / 100 Cases    -0.062792      -0.024293           -0.168920   \n",
       "Deaths / 100 Recovered   -0.020750      -0.023340            0.334594   \n",
       "Confirmed last week       0.862118       0.839692            0.069894   \n",
       "1 week change             0.894915       0.954321            0.015095   \n",
       "1 week % increase         0.025293       0.032662           -0.134534   \n",
       "\n",
       "                        Recovered / 100 Cases  Deaths / 100 Recovered  \\\n",
       "Confirmed                           -0.064815                0.025175   \n",
       "Deaths                              -0.114529                0.169006   \n",
       "Recovered                            0.026610               -0.027277   \n",
       "Active                              -0.132618                0.058386   \n",
       "New cases                           -0.078666               -0.011637   \n",
       "New deaths                          -0.062792               -0.020750   \n",
       "New recovered                       -0.024293               -0.023340   \n",
       "Deaths / 100 Cases                  -0.168920                0.334594   \n",
       "Recovered / 100 Cases                1.000000               -0.295381   \n",
       "Deaths / 100 Recovered              -0.295381                1.000000   \n",
       "Confirmed last week                 -0.064600                0.030460   \n",
       "1 week change                       -0.063013               -0.013763   \n",
       "1 week % increase                   -0.394254               -0.049083   \n",
       "\n",
       "                        Confirmed last week  1 week change  1 week % increase  \n",
       "Confirmed                          0.999127       0.954710          -0.010161  \n",
       "Deaths                             0.939082       0.855330          -0.034708  \n",
       "Recovered                          0.899312       0.910013          -0.013697  \n",
       "Active                             0.931459       0.847642          -0.003752  \n",
       "New cases                          0.896084       0.959993           0.030791  \n",
       "New deaths                         0.862118       0.894915           0.025293  \n",
       "New recovered                      0.839692       0.954321           0.032662  \n",
       "Deaths / 100 Cases                 0.069894       0.015095          -0.134534  \n",
       "Recovered / 100 Cases             -0.064600      -0.063013          -0.394254  \n",
       "Deaths / 100 Recovered             0.030460      -0.013763          -0.049083  \n",
       "Confirmed last week                1.000000       0.941448          -0.015247  \n",
       "1 week change                      0.941448       1.000000           0.026594  \n",
       "1 week % increase                 -0.015247       0.026594           1.000000  "
      ]
     },
     "execution_count": 120,
     "metadata": {},
     "output_type": "execute_result"
    }
   ],
   "source": [
    "covid.corr()"
   ]
  },
  {
   "cell_type": "code",
   "execution_count": 98,
   "id": "ecbb6343",
   "metadata": {},
   "outputs": [
    {
     "name": "stderr",
     "output_type": "stream",
     "text": [
      "C:\\Users\\pop\\anaconda3\\lib\\site-packages\\seaborn\\distributions.py:2557: FutureWarning: `distplot` is a deprecated function and will be removed in a future version. Please adapt your code to use either `displot` (a figure-level function with similar flexibility) or `histplot` (an axes-level function for histograms).\n",
      "  warnings.warn(msg, FutureWarning)\n"
     ]
    },
    {
     "data": {
      "text/plain": [
       "<AxesSubplot:xlabel='Deaths'>"
      ]
     },
     "execution_count": 98,
     "metadata": {},
     "output_type": "execute_result"
    },
    {
     "data": {
      "image/png": "[encoded data removed]",
      "text/plain": [
       "<Figure size 576x576 with 1 Axes>"
      ]
     },
     "metadata": {},
     "output_type": "display_data"
    }
   ],
   "source": [
    "sns.distplot(covid['Deaths'],kde=False, color='m' )"
   ]
  },
  {
   "cell_type": "code",
   "execution_count": 99,
   "id": "da1c27a3",
   "metadata": {},
   "outputs": [
    {
     "data": {
      "text/plain": [
       "<seaborn.axisgrid.JointGrid at 0xc16f130>"
      ]
     },
     "execution_count": 99,
     "metadata": {},
     "output_type": "execute_result"
    },
    {
     "data": {
      "image/png": "[encoded data removed]",
      "text/plain": [
       "<Figure size 432x432 with 3 Axes>"
      ]
     },
     "metadata": {},
     "output_type": "display_data"
    }
   ],
   "source": [
    "sns.jointplot(data=covid,x='Deaths', y='New deaths')"
   ]
  },
  {
   "cell_type": "code",
   "execution_count": 106,
   "id": "be7fa973",
   "metadata": {},
   "outputs": [
    {
     "data": {
      "text/plain": [
       "<seaborn.axisgrid.JointGrid at 0x13ad9910>"
      ]
     },
     "execution_count": 106,
     "metadata": {},
     "output_type": "execute_result"
    },
    {
     "data": {
      "image/png": "[encoded data removed]",
      "text/plain": [
       "<Figure size 432x432 with 3 Axes>"
      ]
     },
     "metadata": {},
     "output_type": "display_data"
    }
   ],
   "source": [
    "sns.jointplot(data=covid,x='Deaths', y='Confirmed',kind='scatter')"
   ]
  },
  {
   "cell_type": "code",
   "execution_count": 108,
   "id": "e4560eae",
   "metadata": {},
   "outputs": [
    {
     "data": {
      "text/plain": [
       "<seaborn.axisgrid.PairGrid at 0x1c90afd0>"
      ]
     },
     "execution_count": 108,
     "metadata": {},
     "output_type": "execute_result"
    },
    {
     "data": {
      "image/png": "[encoded data removed]",
      "text/plain": [
       "<Figure size 360x360 with 6 Axes>"
      ]
     },
     "metadata": {},
     "output_type": "display_data"
    }
   ],
   "source": [
    "sns.pairplot(covid,vars=['New cases','New recovered'])"
   ]
  },
  {
   "cell_type": "code",
   "execution_count": 109,
   "id": "d7391c83",
   "metadata": {},
   "outputs": [
    {
     "data": {
      "text/plain": [
       "<seaborn.axisgrid.PairGrid at 0x1c9332b0>"
      ]
     },
     "execution_count": 109,
     "metadata": {},
     "output_type": "execute_result"
    },
    {
     "data": {
      "image/png": "[encoded data removed]",
      "text/plain": [
       "<Figure size 542.645x360 with 6 Axes>"
      ]
     },
     "metadata": {},
     "output_type": "display_data"
    }
   ],
   "source": [
    "sns.pairplot(covid,vars=['New cases','New recovered'],hue='WHO Region')"
   ]
  },
  {
   "cell_type": "code",
   "execution_count": 127,
   "id": "cc92f918",
   "metadata": {},
   "outputs": [
    {
     "data": {
      "image/png": "[encoded data removed]",
      "text/plain": [
       "<Figure size 576x576 with 1 Axes>"
      ]
     },
     "metadata": {},
     "output_type": "display_data"
    }
   ],
   "source": [
    "x = covid['WHO Region'].head()\n",
    "y = covid['New cases'].head()\n",
    "plt.bar(x,y,align='center') # A bar chart\n",
    "plt.xlabel('Region',color='r')\n",
    "plt.ylabel('New cases',color='r')\n",
    "plt.title('Covid pandamic Graphically',color='r')\n",
    "plt.show()"
   ]
  },
  {
   "cell_type": "code",
   "execution_count": null,
   "id": "28c8da63",
   "metadata": {},
   "outputs": [],
   "source": []
  }
 ],
 "metadata": {
  "kernelspec": {
   "display_name": "Python 3",
   "language": "python",
   "name": "python3"
  },
  "language_info": {
   "codemirror_mode": {
    "name": "ipython",
    "version": 3
   },
   "file_extension": ".py",
   "mimetype": "text/x-python",
   "name": "python",
   "nbconvert_exporter": "python",
   "pygments_lexer": "ipython3",
   "version": "3.8.8"
  }
 },
 "nbformat": 4,
 "nbformat_minor": 5
}
